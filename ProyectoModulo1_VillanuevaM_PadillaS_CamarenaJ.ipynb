{
 "cells": [
  {
   "cell_type": "markdown",
   "id": "44dbb956-2730-41c7-b86c-f2a68ac71933",
   "metadata": {},
   "source": [
    "Integrantes del equipo:\n",
    "- Mariano Villanueva Aguilar\n",
    "- Santiago Padilla Arias\n",
    "- Juan Jorge Camarena Rivas\n"
   ]
  },
  {
   "cell_type": "markdown",
   "id": "2e44a614-d357-40ee-b8e5-afa433e6a428",
   "metadata": {},
   "source": [
    "## Título: Minimizar el costo para tener una taza correcta de concreto de una proporción 1 : 3 : 3"
   ]
  },
  {
   "cell_type": "markdown",
   "id": "753423f3-e758-4de1-9533-2a2b366f24d0",
   "metadata": {},
   "source": [
    "### Objetivos:\n",
    "\n",
    "#### Objetivo general:\n",
    "Planear la entrega de materiales por medio de diferentes proveedores para poder preparar un concreto de proporcion 1:3:3.\n",
    "\n",
    "#### Objetivos específicos:\n",
    "- Encontrar una solución adecuada y que sea economicamente factible para cumplir con el volumen de concreto requerido\n",
    "- Llegar al resultado mediante una programación líneal\n",
    "- Asegurar que se entregue la cantidad de materia prima necesaria para satisfacer las necesidades.\n"
   ]
  },
  {
   "cell_type": "markdown",
   "id": "109e03e7-3e6a-475f-ac8d-3d94fd8fcae5",
   "metadata": {},
   "source": [
    "# Problema a solucionar\n",
    "Se tiene una construcción vertical, de la cual se necesita empezar el colado de la losa de entrepiso lo antes posible, por lo que para conseguir la materia prima del concreto se requieren distintos proveedores, no obstante al ser diferentes empresas e industrias tienen diferentes precios y diferentes maneras de manejar la materia prima."
   ]
  },
  {
   "cell_type": "markdown",
   "id": "d80a6f95-1755-4013-8941-ba031fa0a044",
   "metadata": {},
   "source": [
    "Para el proyecto se necesitan $ 100m^3$ de concreto, de la cual seguiremos la proporción establecida por las normativas NMX-C-155 y ASTM C 150 y las recomendaciones de la concretera CEMEX lo que nos establece que:\n"
   ]
  },
  {
   "cell_type": "markdown",
   "id": "e421c5ed-1749-40d6-8708-a94a828ff282",
   "metadata": {},
   "source": [
    "![](Concreto.jpg)"
   ]
  },
  {
   "cell_type": "markdown",
   "id": "e9650e5c-6d05-4053-9b1f-ca9b7a65bf87",
   "metadata": {},
   "source": [
    "Al momento de contarctar las empresas nos establecieron que por mínimo debemos de pedir ciertas cantidades para Arena y para la Grava, nos obligan a pedir en tandas de camiones de $ 7m^3$ y del cemento nos cobran por bulto, es importante tomar en cuenta que debemos de hacer una compra mínima. Otro punto por agregar es que las empresas también poseen límitada cantidad de productos. Con esta información completamos la siguiente tabla:"
   ]
  },
  {
   "cell_type": "markdown",
   "id": "eafbe972-427e-472f-9b77-9ad26bb2ff62",
   "metadata": {},
   "source": [
    "![](Arena2.png)"
   ]
  },
  {
   "cell_type": "markdown",
   "id": "aa042082-ccbc-40f1-9f56-41b6395eac7a",
   "metadata": {},
   "source": [
    "Dadas las restricciones del problema, debemos de llegar a cierta cantidad de materia prima para elaborar la mezcla que nos producirá un aproximado de $ 100m^3$, por lo que se hizo la siguiente tabla con la materia prima necesaria:"
   ]
  },
  {
   "cell_type": "markdown",
   "id": "d05c0efe-9acf-4256-a333-47824707faec",
   "metadata": {},
   "source": [
    "![](Total2.png) "
   ]
  },
  {
   "cell_type": "markdown",
   "id": "e70f7f34-7d19-43e2-a2f0-86c02c09e695",
   "metadata": {},
   "source": [
    "Cabe aclarar que se convirtió el cemento de kilogramos a número de sacos, debido a que es el sistema por el que se vende el cemento y cada saco es de 50 Kg"
   ]
  },
  {
   "cell_type": "markdown",
   "id": "00939ae6-a67d-4f40-bb42-818a53792069",
   "metadata": {},
   "source": [
    "### Modelo que representa el problema\n"
   ]
  },
  {
   "cell_type": "markdown",
   "id": "eb3aa35c-5d04-432b-9f46-cc74a0ddc340",
   "metadata": {},
   "source": [
    "### Solución del problema de optimización.\n",
    "1. Identificar criterio de optimización\n",
    "Minimizar el costo de los productos"
   ]
  },
  {
   "cell_type": "markdown",
   "id": "d14911e5-7ec0-45b0-b44b-ae53bc385a58",
   "metadata": {},
   "source": [
    "2. Variables de control:\n",
    "\n",
    "Provedores:\n",
    "\n",
    "  - Cemento gris de aceros murillo $XA$\n",
    "    \n",
    "    \n",
    "  - Cemento gris de Materiales viruete $XB$\n",
    "    \n",
    "    \n",
    "  - Cemento gris de FerreMateriales Riosa $XC$\n",
    "    \n",
    "    \n",
    "  - Arena Gris de Materiales de la Torre $XD$\n",
    "    \n",
    "    \n",
    "  - Arena de Río de Acarreos Delgado $XE$\n",
    "    \n",
    "    \n",
    "  - Arena de Río de Ferremateriales Riosa $XF$\n",
    "    \n",
    "    \n",
    "  - Grava 3/4 de Materiales de la Torre $XG$\n",
    "    \n",
    "    \n",
    "  - Grava 3/4 de Acarreos Delgado $XH$\n",
    "    \n",
    "    \n",
    "  - Grava 3/4 de Ferremateriales Riosa $XI$\n",
    "\n",
    "\n",
    "$XE$\r\n"
   ]
  },
  {
   "cell_type": "markdown",
   "id": "4b31ef99-31f1-4c65-8d92-0b2d49ddf42d",
   "metadata": {},
   "source": [
    "3. Función de costo\n",
    " - $ f(XA, XB, XC, XD, XE ,XF, XG, XH, XI) = 245 XA + 225XB + 254 XC + 244 XD + 286 XE + 283XF + 484XG + 500XH + 502XI $\n"
   ]
  },
  {
   "cell_type": "markdown",
   "id": "5c8ba79e-dd73-433d-853e-7dd3388843a1",
   "metadata": {},
   "source": [
    "4. Información adicional"
   ]
  },
  {
   "cell_type": "markdown",
   "id": "a4ea88fb-0bb5-4555-9726-f3abfbb3568e",
   "metadata": {},
   "source": [
    "Cemento gris\n",
    "$$ XA+ XB+XC = 600 sacos $$\n",
    "Arena\n",
    "$$ XD+ XE+XF = 65 m^3$$\n",
    "Grava 3/4\n",
    "$$ XG+ XH+XI = 65 m^3$$\n",
    "Minimo de compra:\n",
    "$$ XA \\geq 100$$\n",
    "$$ XB \\geq 75$$\n",
    "$$ XC \\geq 80$$\n",
    "\n",
    "Stock:\n",
    "$$ XA \\leq 210$$\n",
    "$$ XB \\leq 90$$\n",
    "$$ XC \\leq 300$$\n",
    "\n",
    "Minimo de compra:\n",
    "$$ XD \\geq 7$$\n",
    "$$ XE \\geq 7$$\n",
    "$$ XF \\geq 7$$\n",
    "$$ XG \\geq 7$$\n",
    "$$ XH \\geq 7$$\n",
    "$$ XI \\geq 7$$\n",
    "\n",
    "Stock:\n",
    "$$ XD \\leq 21$$\n",
    "$$ XE \\leq 35$$\n",
    "$$ XF \\leq 14$$\n",
    "$$ XG \\leq 28$$\n",
    "$$ XH \\leq 14$$\n",
    "$$ XI \\leq 42$$"
   ]
  },
  {
   "cell_type": "markdown",
   "id": "ae3957ef-33cd-406e-bf68-8614d21cb421",
   "metadata": {},
   "source": [
    "5. Modelo"
   ]
  },
  {
   "cell_type": "code",
   "execution_count": 54,
   "id": "a3d49c2f-e8c4-4786-bf7f-56178ce7b519",
   "metadata": {},
   "outputs": [],
   "source": [
    "import numpy as np\n",
    "c = np.array([245, 225, 254, 244, 286, 283, 484, 500, 502])\n",
    "Aub = np.array ([\n",
    "     [-1,-1, -1, 0, 0, 0, 0, 0, 0],\n",
    "     [0,  0,  0,  -1, -1, -1, 0, 0, 0],\n",
    "     [0,  0,  0, 0,  0,  0, -1, -1, -1],\n",
    "    \n",
    "     [-1,  0,  0, 0,  0,  0, 0, 0,  0],\n",
    "     [0,  -1,  0, 0,  0,  0, 0, 0,  0],\n",
    "     [0,  0,  -1, 0,  0,  0, 0, 0,  0],\n",
    "    \n",
    "     [1,  0,  0, 0,  0,  0, 0, 0,  0],\n",
    "     [0,  1,  0, 0,  0,  0, 0, 0,  0],\n",
    "     [0,  0,  1, 0,  0,  0, 0, 0,  0],\n",
    "    \n",
    "     [0,  0,  0, -1,  0,  0, 0, 0,  0],\n",
    "     [0,  0,  0, 0,  -1,  0, 0, 0,  0],\n",
    "     [0,  0,  0, 0,  0,  -1, 0, 0,  0],\n",
    "     [0,  0,  0, 0,  0,  0, -1, 0,  0],\n",
    "     [0,  0,  0, 0,  0,  0, 0, -1,  0],\n",
    "     [0,  0,  0, 0,  0,  0, 0, 0,  -1],\n",
    "\n",
    "     [0,  0,  0, 1,  0,  0, 0, 0,  0],\n",
    "     [0,  0,  0, 0,  1,  0, 0, 0,  0],\n",
    "     [0,  0,  0, 0,  0,  1, 0, 0,  0],\n",
    "     [0,  0,  0, 0,  0,  0, 1, 0,  0],\n",
    "     [0,  0,  0, 0,  0,  0, 0, 1,  0],\n",
    "     [0,  0,  0, 0,  0,  0, 0, 0,  1]\n",
    "])\n",
    "bub = np.array([\n",
    "    [-600],\n",
    "    [-65],\n",
    "    [-65],\n",
    "    \n",
    "    [-100],\n",
    "    [-75],\n",
    "    [-80],\n",
    "    \n",
    "    [210],\n",
    "    [90],\n",
    "    [300],\n",
    "   \n",
    "    [-7],\n",
    "    [-7],\n",
    "    [-7],\n",
    "    [-7],\n",
    "    [-7],\n",
    "    [-7],\n",
    "    [21],\n",
    "    [35],\n",
    "    [14],\n",
    "    [28],\n",
    "    [14],\n",
    "    [42],\n",
    "    \n",
    "])\n"
   ]
  },
  {
   "cell_type": "code",
   "execution_count": 56,
   "id": "e7535403-80fb-4e24-a062-1b1cbacf0369",
   "metadata": {},
   "outputs": [
    {
     "data": {
      "text/plain": [
       "        message: Optimization terminated successfully. (HiGHS Status 7: Optimal)\n",
       "        success: True\n",
       "         status: 0\n",
       "            fun: 197664.0\n",
       "              x: [ 2.100e+02  9.000e+01  3.000e+02  2.100e+01  3.000e+01\n",
       "                   1.400e+01  2.800e+01  1.400e+01  2.300e+01]\n",
       "            nit: 0\n",
       "          lower:  residual: [ 2.100e+02  9.000e+01  3.000e+02  2.100e+01\n",
       "                              3.000e+01  1.400e+01  2.800e+01  1.400e+01\n",
       "                              2.300e+01]\n",
       "                 marginals: [ 0.000e+00  0.000e+00  0.000e+00  0.000e+00\n",
       "                              0.000e+00  0.000e+00  0.000e+00  0.000e+00\n",
       "                              0.000e+00]\n",
       "          upper:  residual: [       inf        inf        inf        inf\n",
       "                                    inf        inf        inf        inf\n",
       "                                    inf]\n",
       "                 marginals: [ 0.000e+00  0.000e+00  0.000e+00  0.000e+00\n",
       "                              0.000e+00  0.000e+00  0.000e+00  0.000e+00\n",
       "                              0.000e+00]\n",
       "          eqlin:  residual: []\n",
       "                 marginals: []\n",
       "        ineqlin:  residual: [ 0.000e+00  0.000e+00 ...  0.000e+00\n",
       "                              1.900e+01]\n",
       "                 marginals: [-2.540e+02 -2.860e+02 ... -2.000e+00\n",
       "                             -0.000e+00]\n",
       " mip_node_count: 0\n",
       " mip_dual_bound: 0.0\n",
       "        mip_gap: 0.0"
      ]
     },
     "execution_count": 56,
     "metadata": {},
     "output_type": "execute_result"
    }
   ],
   "source": [
    "import scipy.optimize as opt\n",
    "sol=opt.linprog(c,Aub,bub)\n",
    "sol"
   ]
  },
  {
   "cell_type": "code",
   "execution_count": 58,
   "id": "57e00987-d428-49e0-a318-99314692aae1",
   "metadata": {},
   "outputs": [
    {
     "data": {
      "text/plain": [
       "array([210.,  90., 300.,  21.,  30.,  14.,  28.,  14.,  23.])"
      ]
     },
     "execution_count": 58,
     "metadata": {},
     "output_type": "execute_result"
    }
   ],
   "source": [
    "sol.x"
   ]
  },
  {
   "cell_type": "code",
   "execution_count": 60,
   "id": "d011e783-205d-4606-bc53-520e97c1b78b",
   "metadata": {},
   "outputs": [
    {
     "data": {
      "text/plain": [
       "Text(0, 0.5, 'Cantidad de costales')"
      ]
     },
     "execution_count": 60,
     "metadata": {},
     "output_type": "execute_result"
    },
    {
     "data": {
      "image/png": "[encoded data removed]",
      "text/plain": [
       "<Figure size 640x480 with 1 Axes>"
      ]
     },
     "metadata": {},
     "output_type": "display_data"
    }
   ],
   "source": [
    "import matplotlib.pyplot as plt\n",
    "plt.figure()\n",
    "plt.title(\"Cemento\")\n",
    "plt.bar([\"Aceros Murillo\", \"Materiales Virulete\", \"Ferremateriales Riosa\"], [sol.x[0],sol.x[1],sol.x[2]])\n",
    "plt.grid()\n",
    "plt.xlabel(\"Marca de Cemento\")\n",
    "plt.ylabel(\"Cantidad de costales\")\n"
   ]
  },
  {
   "cell_type": "code",
   "execution_count": 62,
   "id": "07a5609c-1b18-41c9-bcc4-68ffa984da16",
   "metadata": {},
   "outputs": [
    {
     "data": {
      "text/plain": [
       "Text(0, 0.5, 'Cantidad metros cubicos')"
      ]
     },
     "execution_count": 62,
     "metadata": {},
     "output_type": "execute_result"
    },
    {
     "data": {
      "image/png": "[encoded data removed]",
      "text/plain": [
       "<Figure size 640x480 with 1 Axes>"
      ]
     },
     "metadata": {},
     "output_type": "display_data"
    }
   ],
   "source": [
    "plt.figure()\n",
    "plt.title(\"Arena\")\n",
    "plt.bar([\"Materiales de la Torre\", \"Acarreos Delgado\", \"Ferremateriales Riosa\"], [sol.x[3],sol.x[4],sol.x[5]])\n",
    "plt.grid()\n",
    "plt.xlabel(\"Marca de arena\")\n",
    "plt.ylabel(\"Cantidad metros cubicos\")"
   ]
  },
  {
   "cell_type": "code",
   "execution_count": 64,
   "id": "38a4d235-3bae-4173-aa6c-6523684a509c",
   "metadata": {},
   "outputs": [
    {
     "data": {
      "text/plain": [
       "Text(0, 0.5, 'Cantidad metros cubicos')"
      ]
     },
     "execution_count": 64,
     "metadata": {},
     "output_type": "execute_result"
    },
    {
     "data": {
      "image/png": "[encoded data removed]",
      "text/plain": [
       "<Figure size 640x480 with 1 Axes>"
      ]
     },
     "metadata": {},
     "output_type": "display_data"
    }
   ],
   "source": [
    "plt.figure()\n",
    "plt.title(\"Grava\")\n",
    "plt.bar([\"Materiales de la Torre\", \"Acarreos Delgado\", \"Ferremateriales Riosa\"], [sol.x[6],sol.x[7],sol.x[8]])\n",
    "plt.grid()\n",
    "plt.xlabel(\"Marca de grava\")\n",
    "plt.ylabel(\"Cantidad metros cubicos\")"
   ]
  },
  {
   "cell_type": "markdown",
   "id": "5213394c-78a8-41cc-8e69-5a8e329e6308",
   "metadata": {},
   "source": [
    "El precio total es de:"
   ]
  },
  {
   "cell_type": "code",
   "execution_count": 67,
   "id": "78912bd9-b932-479b-902d-2a097b14d18b",
   "metadata": {},
   "outputs": [
    {
     "data": {
      "text/plain": [
       "197664.0"
      ]
     },
     "execution_count": 67,
     "metadata": {},
     "output_type": "execute_result"
    }
   ],
   "source": [
    "sol.fun"
   ]
  },
  {
   "cell_type": "markdown",
   "id": "53fa9a6b-1677-479a-93e8-36c6e4e2b2bc",
   "metadata": {},
   "source": [
    "Por lo que se podemos asimilar que nuestra cotización es viable, ya que cumplimos con el mínimo viable que necesitamos en nuestro proyecto, con el menor precio posible, además cumpliendo con las especificaciones que por contrato se nos solicitan, teniendo los 5000 sacos que se necesitan y pagando 1157192 pesos por el total."
   ]
  },
  {
   "cell_type": "markdown",
   "id": "c8b202e5-140b-40c0-877e-f813e3476066",
   "metadata": {},
   "source": [
    "Referencias:\n",
    "\n",
    "Aceros Murillo. (s.f.). Aceros Murillo: Empresa especializada en venta de acero. https://acerosmurillo.com/Enlaces a un sitio externo.\n",
    "\n",
    "Comunicación personal con Aceros Murillo. (23 de septiembre de 2024).\n",
    "\n",
    "Comunicación personal con Materiales Viruete. (23 de septiembre de 2024).\n",
    "\n",
    "Comunicación personal con Materiales Riosa. (23 de septiembre de 2024)."
   ]
  },
  {
   "cell_type": "code",
   "execution_count": null,
   "id": "2c81b46a-327b-43c3-9b67-c64c2bd295e9",
   "metadata": {},
   "outputs": [],
   "source": [
    "\n"
   ]
  }
 ],
 "metadata": {
  "kernelspec": {
   "display_name": "Python 3 (ipykernel)",
   "language": "python",
   "name": "python3"
  },
  "language_info": {
   "codemirror_mode": {
    "name": "ipython",
    "version": 3
   },
   "file_extension": ".py",
   "mimetype": "text/x-python",
   "name": "python",
   "nbconvert_exporter": "python",
   "pygments_lexer": "ipython3",
   "version": "3.12.4"
  }
 },
 "nbformat": 4,
 "nbformat_minor": 5
}
