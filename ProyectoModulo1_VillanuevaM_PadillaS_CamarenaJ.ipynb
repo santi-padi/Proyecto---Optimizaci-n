{
 "cells": [
  {
   "cell_type": "markdown",
   "id": "44dbb956-2730-41c7-b86c-f2a68ac71933",
   "metadata": {},
   "source": [
    "Integrantes del equipo:\n",
    "- Mariano Villanueva Aguilar\n",
    "- Santiago Padilla Arias\n",
    "- Juan Jorge Camarena Rivas\n"
   ]
  },
  {
   "cell_type": "markdown",
   "id": "2e44a614-d357-40ee-b8e5-afa433e6a428",
   "metadata": {},
   "source": [
    "## Título: Minimizar el costo de la entrega de varillas de Acero, a la nueva edificación que está siendo construida en la zona de Andares bajo la condicionante que se debe obtener los materiales de diferentes proveedores puesto que uno solo no pueden surtirnos todo "
   ]
  },
  {
   "cell_type": "markdown",
   "id": "753423f3-e758-4de1-9533-2a2b366f24d0",
   "metadata": {},
   "source": [
    "### Objetivos:\n",
    "\n",
    "#### Objetivo general:\n",
    "Planear la entrega de materiales por medio de diferentes proveedores.\n",
    "\n",
    "#### Objetivos específicos:\n",
    "- Encontrar la solución económica más óptima. \n",
    "- Lograr tener la cantidad de material adecuada.\n",
    "- Permitir recibir una serie de costos, y de volúmenes de material por parte de diferentes proveedores para que a raíz de esto se pueda tomar la mejor decisión.\n",
    "- Presentar la solución y mostrar cómo llegamos a ella.\n"
   ]
  },
  {
   "cell_type": "markdown",
   "id": "00939ae6-a67d-4f40-bb42-818a53792069",
   "metadata": {},
   "source": [
    "### Modelo que representa el problema\n",
    "![](MODELO.jpg)"
   ]
  },
  {
   "cell_type": "markdown",
   "id": "eb3aa35c-5d04-432b-9f46-cc74a0ddc340",
   "metadata": {},
   "source": [
    "### Solución del problema de optimización.\n",
    "1. Identificar criterio de optimización\n",
    "Minimizar el costo de los productos"
   ]
  },
  {
   "cell_type": "markdown",
   "id": "d14911e5-7ec0-45b0-b44b-ae53bc385a58",
   "metadata": {},
   "source": [
    "2. Variables de control:\n",
    "Cantidad de camiones y proveedores\r\n",
    "  - Aceros murillo --> $XA$\r\n",
    "  - Materiales viruete --> $XB$\r\n",
    "  - Materiales Riosa --> $XC$\r\n",
    "  - CEMEX --> $XD$\r\n",
    "  - Cruz Azul --> $XE$\r\n"
   ]
  },
  {
   "cell_type": "markdown",
   "id": "4b31ef99-31f1-4c65-8d92-0b2d49ddf42d",
   "metadata": {},
   "source": [
    "3. Función de costo\n",
    " - $ f(XA, XB, XC, XD, XE) = 245 XA + 225XB + 254 XC + 260 XD + 203 XE $\n"
   ]
  },
  {
   "cell_type": "markdown",
   "id": "5c8ba79e-dd73-433d-853e-7dd3388843a1",
   "metadata": {},
   "source": [
    "4. Información adicional"
   ]
  },
  {
   "cell_type": "markdown",
   "id": "a4ea88fb-0bb5-4555-9726-f3abfbb3568e",
   "metadata": {},
   "source": [
    "\n",
    "\n",
    "$$  XA + XB +XC + XD + XE \\geq 5000 $$\n",
    "$$XA \\geq 98 $$\n",
    "$$ XB \\geq 87$$\n",
    "$$ XB \\leq 1000$$\n",
    "$$XC \\geq 88 $$\n",
    "$$ XD \\geq 130$$\n",
    "$$ XE\\geq 91$$\n",
    "$$ XA+XB \\geq 700$$\n",
    "$$ XA+ XC \\geq 400$$\n",
    "$$ XD-XE\\geq 0$$\n"
   ]
  },
  {
   "cell_type": "markdown",
   "id": "ae3957ef-33cd-406e-bf68-8614d21cb421",
   "metadata": {},
   "source": [
    "5. Modelo"
   ]
  },
  {
   "cell_type": "code",
   "execution_count": 205,
   "id": "a3d49c2f-e8c4-4786-bf7f-56178ce7b519",
   "metadata": {},
   "outputs": [],
   "source": [
    "import numpy as np\n",
    "c = np.array([245, 225, 254, 260, 203])\n",
    "Aub = np.array ([\n",
    "     [-1,-1, -1, -1, -1],\n",
    "     [-1,  0,  0,  0,  0],\n",
    "     [0,  -1,  0,  0,  0],\n",
    "     [0,  0,  -1,  0,  0],\n",
    "     [0,  0,  0,  -1,  0],\n",
    "     [0,  0,  0,  0,  -1],\n",
    "     [-1,  -1,  0,  0,  0],\n",
    "     [0,  0,  0,  -1,  1],\n",
    "     [0,  1,  0,  0,  0],\n",
    "     [-1, 0, -1, 0,  0]\n",
    "])\n",
    "bub = np.array([\n",
    "    [-5000],\n",
    "    [-98],\n",
    "    [-87],\n",
    "    [-88],\n",
    "    [-130],\n",
    "    [-91],\n",
    "    [-700],\n",
    "    [0],\n",
    "    [1000],\n",
    "    [-400]\n",
    "])\n"
   ]
  },
  {
   "cell_type": "code",
   "execution_count": 207,
   "id": "e7535403-80fb-4e24-a062-1b1cbacf0369",
   "metadata": {},
   "outputs": [
    {
     "data": {
      "text/plain": [
       "        message: Optimization terminated successfully. (HiGHS Status 7: Optimal)\n",
       "        success: True\n",
       "         status: 0\n",
       "            fun: 1157192.0\n",
       "              x: [ 3.120e+02  1.000e+03  8.800e+01  1.800e+03  1.800e+03]\n",
       "            nit: 3\n",
       "          lower:  residual: [ 3.120e+02  1.000e+03  8.800e+01  1.800e+03\n",
       "                              1.800e+03]\n",
       "                 marginals: [ 0.000e+00  0.000e+00  0.000e+00  0.000e+00\n",
       "                              0.000e+00]\n",
       "          upper:  residual: [       inf        inf        inf        inf\n",
       "                                    inf]\n",
       "                 marginals: [ 0.000e+00  0.000e+00  0.000e+00  0.000e+00\n",
       "                              0.000e+00]\n",
       "          eqlin:  residual: []\n",
       "                 marginals: []\n",
       "        ineqlin:  residual: [ 0.000e+00  2.140e+02  9.130e+02  0.000e+00\n",
       "                              1.670e+03  1.709e+03  6.120e+02  0.000e+00\n",
       "                              0.000e+00  0.000e+00]\n",
       "                 marginals: [-2.315e+02 -0.000e+00 -0.000e+00 -9.000e+00\n",
       "                             -0.000e+00 -0.000e+00 -0.000e+00 -2.850e+01\n",
       "                             -6.500e+00 -1.350e+01]\n",
       " mip_node_count: 0\n",
       " mip_dual_bound: 0.0\n",
       "        mip_gap: 0.0"
      ]
     },
     "execution_count": 207,
     "metadata": {},
     "output_type": "execute_result"
    }
   ],
   "source": [
    "import scipy.optimize as opt\n",
    "sol=opt.linprog(c,Aub,bub)\n",
    "sol"
   ]
  },
  {
   "cell_type": "code",
   "execution_count": 209,
   "id": "57e00987-d428-49e0-a318-99314692aae1",
   "metadata": {},
   "outputs": [
    {
     "data": {
      "text/plain": [
       "array([ 312., 1000.,   88., 1800., 1800.])"
      ]
     },
     "execution_count": 209,
     "metadata": {},
     "output_type": "execute_result"
    }
   ],
   "source": [
    "sol.x"
   ]
  },
  {
   "cell_type": "code",
   "execution_count": 211,
   "id": "d011e783-205d-4606-bc53-520e97c1b78b",
   "metadata": {},
   "outputs": [
    {
     "data": {
      "text/plain": [
       "[<matplotlib.lines.Line2D at 0x25a8bccacf0>]"
      ]
     },
     "execution_count": 211,
     "metadata": {},
     "output_type": "execute_result"
    },
    {
     "data": {
      "image/png": "[encoded data removed]",
      "text/plain": [
       "<Figure size 640x480 with 1 Axes>"
      ]
     },
     "metadata": {},
     "output_type": "display_data"
    }
   ],
   "source": [
    "import matplotlib.pyplot as plt\n",
    "plt.plot(sol.x)"
   ]
  },
  {
   "cell_type": "code",
   "execution_count": 215,
   "id": "07a5609c-1b18-41c9-bcc4-68ffa984da16",
   "metadata": {},
   "outputs": [
    {
     "data": {
      "text/plain": [
       "1157192.0"
      ]
     },
     "execution_count": 215,
     "metadata": {},
     "output_type": "execute_result"
    }
   ],
   "source": [
    "sol.fun"
   ]
  },
  {
   "cell_type": "markdown",
   "id": "53fa9a6b-1677-479a-93e8-36c6e4e2b2bc",
   "metadata": {},
   "source": [
    "Por lo que se podemos asimilar que nuestra cotización es viable, ya que cumplimos con el mínimo viable que necesitamos en nuestro proyecto, con el menor precio posible, además cumpliendo con las especificaciones que por contrato se nos solicitan, teniendo los 5000 sacos que se necesitan y pagando 1157192 pesos por el total."
   ]
  },
  {
   "cell_type": "markdown",
   "id": "c8b202e5-140b-40c0-877e-f813e3476066",
   "metadata": {},
   "source": [
    "Referencias:\n",
    "\n",
    "Aceros Murillo. (s.f.). Aceros Murillo: Empresa especializada en venta de acero. https://acerosmurillo.com/Enlaces a un sitio externo.\n",
    "\n",
    "Comunicación personal con Aceros Murillo. (23 de septiembre de 2024).\n",
    "\n",
    "Comunicación personal con Materiales Viruete. (23 de septiembre de 2024).\n",
    "\n",
    "Comunicación personal con Materiales Riosa. (23 de septiembre de 2024)."
   ]
  },
  {
   "cell_type": "code",
   "execution_count": null,
   "id": "2c81b46a-327b-43c3-9b67-c64c2bd295e9",
   "metadata": {},
   "outputs": [],
   "source": [
    "\n"
   ]
  }
 ],
 "metadata": {
  "kernelspec": {
   "display_name": "Python 3 (ipykernel)",
   "language": "python",
   "name": "python3"
  },
  "language_info": {
   "codemirror_mode": {
    "name": "ipython",
    "version": 3
   },
   "file_extension": ".py",
   "mimetype": "text/x-python",
   "name": "python",
   "nbconvert_exporter": "python",
   "pygments_lexer": "ipython3",
   "version": "3.12.4"
  }
 },
 "nbformat": 4,
 "nbformat_minor": 5
}
