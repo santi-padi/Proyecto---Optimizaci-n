{
 "cells": [
  {
   "cell_type": "markdown",
   "id": "eb3aa35c-5d04-432b-9f46-cc74a0ddc340",
   "metadata": {},
   "source": [
    "1. Identificar criterio de optimización\n",
    "Minimizar el costo de los productos"
   ]
  },
  {
   "cell_type": "markdown",
   "id": "d14911e5-7ec0-45b0-b44b-ae53bc385a58",
   "metadata": {},
   "source": [
    "2. Variables de control:\n",
    "Cantidad de camiones y proveedores\r\n",
    "  - Aceros murillo --> $XA$\r\n",
    "  - Materiales viruete --> $XB$\r\n",
    "  - Materiales Riosa --> $XC$\r\n",
    "  - CEMEX --> $XD$\r\n",
    "  - Cruz Azul --> $XE$\r\n"
   ]
  },
  {
   "cell_type": "markdown",
   "id": "4b31ef99-31f1-4c65-8d92-0b2d49ddf42d",
   "metadata": {},
   "source": [
    "3. Función de costo\n",
    " - $ f(XA, XB, XC, XD, XE) = 245 XA + 225XB + 254 XC + 260 XD + 203 XE $\n"
   ]
  },
  {
   "cell_type": "markdown",
   "id": "5c8ba79e-dd73-433d-853e-7dd3388843a1",
   "metadata": {},
   "source": [
    "4. Información adicional"
   ]
  },
  {
   "cell_type": "markdown",
   "id": "a4ea88fb-0bb5-4555-9726-f3abfbb3568e",
   "metadata": {},
   "source": [
    "$$ XA + XB + XC + XD + XE \\leq 400000 $$\n",
    "\n",
    "$$  XA + XB +XC + XD + XE \\geq 160000 $$\n",
    "$$XA \\geq 98000 $$\n",
    "$$ XB \\geq 87750$$\n",
    "$$XC \\geq 88900 $$\n",
    "$$ XD \\geq 130000$$\n",
    "$$ XE\\geq 91350$$\n"
   ]
  },
  {
   "cell_type": "markdown",
   "id": "ae3957ef-33cd-406e-bf68-8614d21cb421",
   "metadata": {},
   "source": [
    "5. Modelo"
   ]
  },
  {
   "cell_type": "code",
   "execution_count": 16,
   "id": "a3d49c2f-e8c4-4786-bf7f-56178ce7b519",
   "metadata": {},
   "outputs": [],
   "source": [
    "import numpy as np\n",
    "c = np.array([245, \n",
    "              225, \n",
    "              254, \n",
    "              260, \n",
    "              203])\n",
    "Aub = np.array ([\n",
    "     [1,  1,  1,  1,  1], \n",
    "     [0,  0,  0,  1,  0], \n",
    "     [1,  1,  1,  1,  1],\n",
    "     [1,  0,  0,  0,  0],\n",
    "     [0,  1,  0,  0,  0],\n",
    "     [0,  0,  1,  0,  0],\n",
    "     [0,  0,  0,  1,  0],\n",
    "     [0,  0,  0,  0,  1]\n",
    "])\n",
    "bub = np.array([\n",
    "    [400000], \n",
    "    [140000], \n",
    "    [160000],\n",
    "    [98000],\n",
    "    [87750],\n",
    "    [88900],\n",
    "    [130000],\n",
    "    [91350],\n",
    "])\n"
   ]
  },
  {
   "cell_type": "code",
   "execution_count": null,
   "id": "21e2e816-0dd2-47f7-9375-49320cdc795d",
   "metadata": {},
   "outputs": [],
   "source": []
  }
 ],
 "metadata": {
  "kernelspec": {
   "display_name": "Python 3 (ipykernel)",
   "language": "python",
   "name": "python3"
  },
  "language_info": {
   "codemirror_mode": {
    "name": "ipython",
    "version": 3
   },
   "file_extension": ".py",
   "mimetype": "text/x-python",
   "name": "python",
   "nbconvert_exporter": "python",
   "pygments_lexer": "ipython3",
   "version": "3.12.4"
  }
 },
 "nbformat": 4,
 "nbformat_minor": 5
}
